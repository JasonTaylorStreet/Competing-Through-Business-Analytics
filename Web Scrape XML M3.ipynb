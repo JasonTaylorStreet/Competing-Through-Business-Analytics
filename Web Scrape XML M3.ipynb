{
 "cells": [
  {
   "cell_type": "code",
   "execution_count": 1,
   "id": "8b1fd01a",
   "metadata": {},
   "outputs": [],
   "source": [
    "# Jason Street\n",
    "# Module 3\n",
    "# All output is together in the last cell\n",
    "import requests\n",
    "from lxml import objectify\n",
    "\n",
    "# import XML data\n",
    "URL = 'https://data.virginia.gov/api/views/xvir-sctz/rows.xml?accessType=DOWNLOAD'\n",
    "response = requests.get(URL).content\n",
    "\n",
    "# parsing the XML file\n",
    "root = objectify.fromstring(response)"
   ]
  },
  {
   "cell_type": "code",
   "execution_count": 2,
   "id": "8b607100",
   "metadata": {},
   "outputs": [],
   "source": [
    "# find the index matching the criteria: Mathews County April 2019\n",
    "target_index1 = None\n",
    "for idx, row in enumerate(root.row.row):\n",
    "    if (str(row.year) == '2019.0' and\n",
    "        row.month == 'April' and\n",
    "        row.locality == 'Mathews County'):\n",
    "        target_index1 = idx\n",
    "        break\n",
    "\n",
    "# return pounds of food distributed in Mathews County for April of 2019\n",
    "food_dist = root.row.row[target_index1].pounds_of_food_distributed"
   ]
  },
  {
   "cell_type": "code",
   "execution_count": 3,
   "id": "a2dbe661",
   "metadata": {},
   "outputs": [],
   "source": [
    "# find the index matching the criteria: Northumberland May 2020\n",
    "target_index2 = None\n",
    "for idx, row in enumerate(root.row.row):\n",
    "    if (str(row.year) == '2020.0' and\n",
    "        row.month == 'May' and\n",
    "        row.locality == 'Northumberland County'):\n",
    "        target_index2 = idx\n",
    "        break\n",
    "\n",
    "# return individuals served in Northumberland County for May of 2020\n",
    "individuals_served = root.row.row[target_index2].individuals_served"
   ]
  },
  {
   "cell_type": "code",
   "execution_count": 4,
   "id": "0cbf5944",
   "metadata": {},
   "outputs": [],
   "source": [
    "# find the index matching the criteria: King and Queen\n",
    "target_index3 = None\n",
    "for idx, row in enumerate(root.row.row):\n",
    "    if (row.locality == 'King and Queen'):\n",
    "        target_index3 = idx\n",
    "        break\n",
    "\n",
    "# return fips for King and Queen\n",
    "fips = root.row.row[target_index3].fips"
   ]
  },
  {
   "cell_type": "code",
   "execution_count": 5,
   "id": "d3eb0de8",
   "metadata": {},
   "outputs": [
    {
     "name": "stdout",
     "output_type": "stream",
     "text": [
      "Jason Street\n",
      "\n",
      "Mathews County, April of 2019\n",
      "Pounds of food served: 21602.0\n",
      "\n",
      "Northumberland County, May of 2020\n",
      "Number of individuals served: 627.0\n",
      "\n",
      "King and Queen\n",
      "fips: 97.0\n"
     ]
    }
   ],
   "source": [
    "print('Jason Street')\n",
    "print('\\nMathews County, April of 2019')\n",
    "print('Pounds of food served:', food_dist)\n",
    "print('\\nNorthumberland County, May of 2020')\n",
    "print('Number of individuals served:', individuals_served)\n",
    "print('\\nKing and Queen')\n",
    "print('fips:', fips)"
   ]
  },
  {
   "cell_type": "code",
   "execution_count": null,
   "id": "a140873d",
   "metadata": {},
   "outputs": [],
   "source": []
  }
 ],
 "metadata": {
  "kernelspec": {
   "display_name": "Python 3 (ipykernel)",
   "language": "python",
   "name": "python3"
  },
  "language_info": {
   "codemirror_mode": {
    "name": "ipython",
    "version": 3
   },
   "file_extension": ".py",
   "mimetype": "text/x-python",
   "name": "python",
   "nbconvert_exporter": "python",
   "pygments_lexer": "ipython3",
   "version": "3.11.5"
  }
 },
 "nbformat": 4,
 "nbformat_minor": 5
}

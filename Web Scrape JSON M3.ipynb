{
 "cells": [
  {
   "cell_type": "code",
   "execution_count": 1,
   "id": "acc09aa5",
   "metadata": {},
   "outputs": [],
   "source": [
    "# Jason Street\n",
    "# Module 3\n",
    "# All output is together in the last cell\n",
    "import requests\n",
    "import pandas as pd\n",
    "\n",
    "# import the data\n",
    "search_url = 'https://data.europa.eu/api/hub/statistics/data/num-datasets'\n",
    "response = requests.get(search_url)\n",
    "root=response.json()"
   ]
  },
  {
   "cell_type": "code",
   "execution_count": 2,
   "id": "50d270c6",
   "metadata": {},
   "outputs": [],
   "source": [
    "# put data into a table\n",
    "df = pd.DataFrame(root['stats'])\n",
    "\n",
    "# count the length of the file\n",
    "num_records = len(df)"
   ]
  },
  {
   "cell_type": "code",
   "execution_count": 3,
   "id": "2ab5df19",
   "metadata": {},
   "outputs": [
    {
     "name": "stdout",
     "output_type": "stream",
     "text": [
      "Jason Street\n",
      "\n",
      "Head of the table:\n",
      "         date      count\n",
      "0  2019-08-01   877625.0\n",
      "1  2019-09-01   895697.0\n",
      "2  2019-10-01   926295.0\n",
      "3  2019-11-01  1009213.0\n",
      "4  2019-12-01   971281.0\n",
      "\n",
      "Tail of the table:\n",
      "          date      count\n",
      "55  2023-09-01  1544800.0\n",
      "56  2023-10-01  1571156.0\n",
      "57  2023-11-01  1585007.0\n",
      "58  2023-12-01  1615595.0\n",
      "59  2024-01-01  1645657.0\n",
      "\n",
      "Number of records in the table: 60\n"
     ]
    }
   ],
   "source": [
    "# print the information for the assignment\n",
    "print('Jason Street')\n",
    "\n",
    "print(\"\\nHead of the table:\")\n",
    "print(df.head())\n",
    "\n",
    "print(\"\\nTail of the table:\")\n",
    "print(df.tail())\n",
    "\n",
    "print(\"\\nNumber of records in the table:\", num_records)"
   ]
  },
  {
   "cell_type": "code",
   "execution_count": null,
   "id": "aae085de",
   "metadata": {},
   "outputs": [],
   "source": []
  }
 ],
 "metadata": {
  "kernelspec": {
   "display_name": "Python 3 (ipykernel)",
   "language": "python",
   "name": "python3"
  },
  "language_info": {
   "codemirror_mode": {
    "name": "ipython",
    "version": 3
   },
   "file_extension": ".py",
   "mimetype": "text/x-python",
   "name": "python",
   "nbconvert_exporter": "python",
   "pygments_lexer": "ipython3",
   "version": "3.11.5"
  }
 },
 "nbformat": 4,
 "nbformat_minor": 5
}

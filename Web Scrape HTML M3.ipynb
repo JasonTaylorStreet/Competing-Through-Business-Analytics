{
 "cells": [
  {
   "cell_type": "code",
   "execution_count": 1,
   "id": "56f86eb1",
   "metadata": {},
   "outputs": [],
   "source": [
    "# Jason Street\n",
    "# Module 3\n",
    "# All output is together in the last cell\n",
    "import requests\n",
    "from bs4 import BeautifulSoup\n",
    "import pandas as pd"
   ]
  },
  {
   "cell_type": "code",
   "execution_count": 2,
   "id": "f4569c43",
   "metadata": {},
   "outputs": [
    {
     "name": "stderr",
     "output_type": "stream",
     "text": [
      "C:\\ProgramData\\anaconda3\\Lib\\site-packages\\urllib3\\connectionpool.py:1061: InsecureRequestWarning: Unverified HTTPS request is being made to host 'gpa.eng.uci.edu'. Adding certificate verification is strongly advised. See: https://urllib3.readthedocs.io/en/1.26.x/advanced-usage.html#ssl-warnings\n",
      "  warnings.warn(\n"
     ]
    }
   ],
   "source": [
    "# import data\n",
    "url = 'https://gpa.eng.uci.edu/'\n",
    "\n",
    "html_doc = requests.get(url, verify=False).content\n",
    "\n",
    "# parsing the HTML file \n",
    "parsed_html = BeautifulSoup(html_doc)\n",
    "\n",
    "new = parsed_html.find_all('tr')"
   ]
  },
  {
   "cell_type": "code",
   "execution_count": 3,
   "id": "d9ca0d25",
   "metadata": {},
   "outputs": [],
   "source": [
    "# declare lists to store data\n",
    "list = []\n",
    "school_name = []\n",
    "location = []\n",
    "country = []\n",
    "school_code = []\n",
    "intl_gpa = []\n",
    "us_gpa = []\n",
    "action_nid = []\n",
    "    \n",
    "# pull data from each row\n",
    "for row in new:\n",
    "    # split the text of each row for later assignment of list elements\n",
    "    info = row.text.split('\\n')[1:8]\n",
    "    list.append(info)\n",
    "\n",
    "headings = list[0]\n",
    "school_info = list[1:]\n",
    "\n",
    "for school in school_info:\n",
    "# add data to respective lists\n",
    "    school_name.append(school[0])\n",
    "    location.append(school[1])\n",
    "    country.append(school[2])\n",
    "    school_code.append(school[3])\n",
    "    intl_gpa.append(school[4])\n",
    "    us_gpa.append(school[5])\n",
    "    action_nid.append(school[6])\n",
    "    \n"
   ]
  },
  {
   "cell_type": "code",
   "execution_count": 4,
   "id": "ad14222a",
   "metadata": {},
   "outputs": [],
   "source": [
    "# set up dictionary for the data\n",
    "data = {\n",
    "    headings[0]: school_name,\n",
    "    headings[1]: location,\n",
    "    headings[2]: country,\n",
    "    headings[3]: school_code,\n",
    "    headings[4]: intl_gpa,\n",
    "    headings[5]: us_gpa,\n",
    "    headings[6]: action_nid\n",
    "}\n",
    "    \n",
    "# make DataFrame from the dictionary\n",
    "df = pd.DataFrame(data=data)"
   ]
  },
  {
   "cell_type": "code",
   "execution_count": 5,
   "id": "d1e20dbd",
   "metadata": {},
   "outputs": [
    {
     "name": "stdout",
     "output_type": "stream",
     "text": [
      "Jason Street\n",
      "\n",
      "Length without header: 466\n",
      "\n",
      "Head of the table:\n",
      "                           School name   \\\n",
      "0                     DEFAULT Argetina    \n",
      "1       Australian National University    \n",
      "2                    Monash University    \n",
      "3    The University of New South Wales    \n",
      "4         The University of Queensland    \n",
      "\n",
      "                                   Location                          Country   \n",
      "0                                                         Argentina            \n",
      "1                         Canberra                        Australia            \n",
      "2              Melbourne, Victoria                        Australia            \n",
      "3                           Sydney                        Australia            \n",
      "4                       Queensland                        Australia            \n",
      "\n",
      "Tail of the table:\n",
      "                                       School name   \\\n",
      "461    The University of Sheffield - Undergraduate    \n",
      "462                       University of Birmingham    \n",
      "463                       University of Portsmouth    \n",
      "464                                DEFAULT Vietnam    \n",
      "465      Ho Chi Minh City University of Technology    \n",
      "\n",
      "                                     Location   \\\n",
      "461                        Sheffield             \n",
      "462                                              \n",
      "463              Portsmouth, England             \n",
      "464                                              \n",
      "465                           Saigon             \n",
      "\n",
      "                                 Country   \n",
      "461              United Kingdom            \n",
      "462              United Kingdom            \n",
      "463              United Kingdom            \n",
      "464                     Vietnam            \n",
      "465                     Vietnam            \n"
     ]
    }
   ],
   "source": [
    "# print the information for the assignment\n",
    "print('Jason Street')\n",
    "\n",
    "print(\"\\nLength without header:\", len(school_info))\n",
    "\n",
    "print(\"\\nHead of the table:\")\n",
    "print(df.head())\n",
    "\n",
    "print(\"\\nTail of the table:\")\n",
    "print(df.tail())"
   ]
  }
 ],
 "metadata": {
  "kernelspec": {
   "display_name": "Python 3 (ipykernel)",
   "language": "python",
   "name": "python3"
  },
  "language_info": {
   "codemirror_mode": {
    "name": "ipython",
    "version": 3
   },
   "file_extension": ".py",
   "mimetype": "text/x-python",
   "name": "python",
   "nbconvert_exporter": "python",
   "pygments_lexer": "ipython3",
   "version": "3.11.5"
  }
 },
 "nbformat": 4,
 "nbformat_minor": 5
}
